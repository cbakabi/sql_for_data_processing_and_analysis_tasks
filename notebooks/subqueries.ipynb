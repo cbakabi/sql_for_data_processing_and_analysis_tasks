{
 "cells": [
  {
   "cell_type": "code",
   "execution_count": 1,
   "metadata": {},
   "outputs": [],
   "source": [
    "%load_ext sql"
   ]
  },
  {
   "cell_type": "code",
   "execution_count": 2,
   "metadata": {},
   "outputs": [],
   "source": [
    "%sql postgresql+psycopg2://localhost:5432/intro_to_sql_for_analytics"
   ]
  },
  {
   "cell_type": "code",
   "execution_count": 6,
   "metadata": {},
   "outputs": [
    {
     "name": "stdout",
     "output_type": "stream",
     "text": [
      " * postgresql+psycopg2://localhost:5432/intro_to_sql_for_analytics\n",
      "5 rows affected.\n"
     ]
    },
    {
     "data": {
      "text/html": [
       "<table>\n",
       "    <tr>\n",
       "        <th>sport</th>\n",
       "        <th>average_age</th>\n",
       "    </tr>\n",
       "    <tr>\n",
       "        <td>Shooting</td>\n",
       "        <td>42.86363636363637</td>\n",
       "    </tr>\n",
       "    <tr>\n",
       "        <td>Equestrian</td>\n",
       "        <td>41.506493506493506</td>\n",
       "    </tr>\n",
       "    <tr>\n",
       "        <td>Cycling Road</td>\n",
       "        <td>40.798122065727696</td>\n",
       "    </tr>\n",
       "    <tr>\n",
       "        <td>Archery</td>\n",
       "        <td>40.75539568345324</td>\n",
       "    </tr>\n",
       "    <tr>\n",
       "        <td>Powerlifting</td>\n",
       "        <td>39.146067415730336</td>\n",
       "    </tr>\n",
       "</table>"
      ],
      "text/plain": [
       "[('Shooting', 42.86363636363637),\n",
       " ('Equestrian', 41.506493506493506),\n",
       " ('Cycling Road', 40.798122065727696),\n",
       " ('Archery', 40.75539568345324),\n",
       " ('Powerlifting', 39.146067415730336)]"
      ]
     },
     "execution_count": 6,
     "metadata": {},
     "output_type": "execute_result"
    }
   ],
   "source": [
    "%%sql SELECT subquery_result.sport, AVG(subquery_result.age) AS average_age\n",
    "  FROM (\n",
    "    SELECT \n",
    "      name,\n",
    "      sport,\n",
    "      DATE_PART('year', CURRENT_DATE) - DATE_PART('year', date_of_birth) as age\n",
    "      FROM athletes\n",
    "  ) subquery_result\n",
    "  GROUP BY subquery_result.sport\n",
    "  ORDER BY average_age DESC\n",
    "  LIMIT 5"
   ]
  },
  {
   "cell_type": "code",
   "execution_count": 4,
   "metadata": {},
   "outputs": [
    {
     "name": "stdout",
     "output_type": "stream",
     "text": [
      " * postgresql+psycopg2://localhost:5432/intro_to_sql_for_analytics\n",
      "3 rows affected.\n"
     ]
    },
    {
     "data": {
      "text/html": [
       "<table>\n",
       "    <tr>\n",
       "        <th>medal</th>\n",
       "        <th>average_age</th>\n",
       "    </tr>\n",
       "    <tr>\n",
       "        <td>Bronze Medal</td>\n",
       "        <td>34.05710491367862</td>\n",
       "    </tr>\n",
       "    <tr>\n",
       "        <td>Silver Medal</td>\n",
       "        <td>33.65123010130246</td>\n",
       "    </tr>\n",
       "    <tr>\n",
       "        <td>Gold Medal</td>\n",
       "        <td>32.70487106017192</td>\n",
       "    </tr>\n",
       "</table>"
      ],
      "text/plain": [
       "[('Bronze Medal', 34.05710491367862),\n",
       " ('Silver Medal', 33.65123010130246),\n",
       " ('Gold Medal', 32.70487106017192)]"
      ]
     },
     "execution_count": 4,
     "metadata": {},
     "output_type": "execute_result"
    }
   ],
   "source": [
    "%%sql SELECT subquery_result.medal, AVG(subquery_result.age) as average_age\n",
    "FROM (\n",
    "  SELECT\n",
    "    medals.medal,\n",
    "    DATE_PART('year', CURRENT_DATE) - DATE_PART('year', athletes.date_of_birth) as age\n",
    "    FROM athletes INNER JOIN medals\n",
    "    ON athletes.name = medals.name\n",
    "    AND athletes.sport = medals.sport\n",
    ") subquery_result\n",
    "GROUP BY medal\n",
    "ORDER BY average_age DESC"
   ]
  },
  {
   "cell_type": "code",
   "execution_count": 7,
   "metadata": {},
   "outputs": [
    {
     "name": "stdout",
     "output_type": "stream",
     "text": [
      " * postgresql+psycopg2://localhost:5432/intro_to_sql_for_analytics\n",
      "5 rows affected.\n"
     ]
    },
    {
     "data": {
      "text/html": [
       "<table>\n",
       "    <tr>\n",
       "        <th>name</th>\n",
       "    </tr>\n",
       "    <tr>\n",
       "        <td>ABARZA Alberto</td>\n",
       "    </tr>\n",
       "    <tr>\n",
       "        <td>ABDELLAOUI Cherine</td>\n",
       "    </tr>\n",
       "    <tr>\n",
       "        <td>ABLINGER Walter</td>\n",
       "    </tr>\n",
       "    <tr>\n",
       "        <td>ABRAHAM GEBRU Daniel</td>\n",
       "    </tr>\n",
       "    <tr>\n",
       "        <td>ABRAHAM GEBRU Daniel</td>\n",
       "    </tr>\n",
       "</table>"
      ],
      "text/plain": [
       "[('ABARZA Alberto',),\n",
       " ('ABDELLAOUI Cherine',),\n",
       " ('ABLINGER Walter',),\n",
       " ('ABRAHAM GEBRU Daniel',),\n",
       " ('ABRAHAM GEBRU Daniel',)]"
      ]
     },
     "execution_count": 7,
     "metadata": {},
     "output_type": "execute_result"
    }
   ],
   "source": [
    "%%sql SELECT name\n",
    "FROM athletes\n",
    "WHERE name IN (\n",
    "    SELECT name\n",
    "    FROM medals\n",
    "    WHERE medal = 'Gold Medal'\n",
    ")\n",
    "LIMIT 5"
   ]
  },
  {
   "cell_type": "code",
   "execution_count": 9,
   "metadata": {},
   "outputs": [
    {
     "name": "stdout",
     "output_type": "stream",
     "text": [
      " * postgresql+psycopg2://localhost:5432/intro_to_sql_for_analytics\n",
      "5 rows affected.\n"
     ]
    },
    {
     "data": {
      "text/html": [
       "<table>\n",
       "    <tr>\n",
       "        <th>name</th>\n",
       "    </tr>\n",
       "    <tr>\n",
       "        <td>ABRAHAM GEBRU Daniel</td>\n",
       "    </tr>\n",
       "    <tr>\n",
       "        <td>ABRAHAM GEBRU Daniel</td>\n",
       "    </tr>\n",
       "    <tr>\n",
       "        <td>ASTASHOV Mikhail</td>\n",
       "    </tr>\n",
       "    <tr>\n",
       "        <td>ASTASHOV Mikhail</td>\n",
       "    </tr>\n",
       "    <tr>\n",
       "        <td>BANGMA Tristan</td>\n",
       "    </tr>\n",
       "</table>"
      ],
      "text/plain": [
       "[('ABRAHAM GEBRU Daniel',),\n",
       " ('ABRAHAM GEBRU Daniel',),\n",
       " ('ASTASHOV Mikhail',),\n",
       " ('ASTASHOV Mikhail',),\n",
       " ('BANGMA Tristan',)]"
      ]
     },
     "execution_count": 9,
     "metadata": {},
     "output_type": "execute_result"
    }
   ],
   "source": [
    "%%sql SELECT name\n",
    "FROM athletes\n",
    "WHERE name IN (\n",
    "    SELECT name\n",
    "    FROM athletes\n",
    "    GROUP BY name\n",
    "    HAVING COUNT(DISTINCT sport) > 1\n",
    ")\n",
    "LIMIT 5"
   ]
  },
  {
   "cell_type": "code",
   "execution_count": 11,
   "metadata": {},
   "outputs": [
    {
     "name": "stdout",
     "output_type": "stream",
     "text": [
      " * postgresql+psycopg2://localhost:5432/intro_to_sql_for_analytics\n",
      "5 rows affected.\n"
     ]
    },
    {
     "data": {
      "text/html": [
       "<table>\n",
       "    <tr>\n",
       "        <th>date_of_birth</th>\n",
       "        <th>name</th>\n",
       "        <th>sport</th>\n",
       "        <th>medal</th>\n",
       "    </tr>\n",
       "    <tr>\n",
       "        <td>1984-12-11</td>\n",
       "        <td>ABARZA Alberto</td>\n",
       "        <td>Swimming</td>\n",
       "        <td>Gold Medal</td>\n",
       "    </tr>\n",
       "    <tr>\n",
       "        <td>1998-08-28</td>\n",
       "        <td>ABDELLAOUI Cherine</td>\n",
       "        <td>Judo</td>\n",
       "        <td>Gold Medal</td>\n",
       "    </tr>\n",
       "    <tr>\n",
       "        <td>1969-05-12</td>\n",
       "        <td>ABLINGER Walter</td>\n",
       "        <td>Cycling Road</td>\n",
       "        <td>Gold Medal</td>\n",
       "    </tr>\n",
       "    <tr>\n",
       "        <td>1985-02-11</td>\n",
       "        <td>ABRAHAM GEBRU Daniel</td>\n",
       "        <td>Cycling Road</td>\n",
       "        <td>Gold Medal</td>\n",
       "    </tr>\n",
       "    <tr>\n",
       "        <td>1985-02-11</td>\n",
       "        <td>ABRAHAM GEBRU Daniel</td>\n",
       "        <td>Cycling Track</td>\n",
       "        <td>Gold Medal</td>\n",
       "    </tr>\n",
       "</table>"
      ],
      "text/plain": [
       "[(datetime.date(1984, 12, 11), 'ABARZA Alberto', 'Swimming', 'Gold Medal'),\n",
       " (datetime.date(1998, 8, 28), 'ABDELLAOUI Cherine', 'Judo', 'Gold Medal'),\n",
       " (datetime.date(1969, 5, 12), 'ABLINGER Walter', 'Cycling Road', 'Gold Medal'),\n",
       " (datetime.date(1985, 2, 11), 'ABRAHAM GEBRU Daniel', 'Cycling Road', 'Gold Medal'),\n",
       " (datetime.date(1985, 2, 11), 'ABRAHAM GEBRU Daniel', 'Cycling Track', 'Gold Medal')]"
      ]
     },
     "execution_count": 11,
     "metadata": {},
     "output_type": "execute_result"
    }
   ],
   "source": [
    "%%sql SELECT date_of_birth, athletes.name, athletes.sport, gold_medals.medal\n",
    "FROM athletes\n",
    "JOIN (\n",
    "    SELECT name, event, medal\n",
    "    FROM medals\n",
    "    WHERE medal = 'Gold Medal'\n",
    ") AS gold_medals ON athletes.name = gold_medals.name\n",
    "LIMIT 5"
   ]
  },
  {
   "cell_type": "code",
   "execution_count": 12,
   "metadata": {},
   "outputs": [
    {
     "name": "stdout",
     "output_type": "stream",
     "text": [
      " * postgresql+psycopg2://localhost:5432/intro_to_sql_for_analytics\n",
      "3 rows affected.\n"
     ]
    },
    {
     "data": {
      "text/html": [
       "<table>\n",
       "    <tr>\n",
       "        <th>index</th>\n",
       "        <th>country</th>\n",
       "        <th>countrycode</th>\n",
       "        <th>name</th>\n",
       "        <th>sport</th>\n",
       "        <th>sport_short</th>\n",
       "        <th>event</th>\n",
       "        <th>medal</th>\n",
       "    </tr>\n",
       "    <tr>\n",
       "        <td>0</td>\n",
       "        <td>Czech Republic</td>\n",
       "        <td>CZE</td>\n",
       "        <td>DRAHONINSKY David</td>\n",
       "        <td>Archery</td>\n",
       "        <td>ARC</td>\n",
       "        <td>Men&#x27;s Individual - W1</td>\n",
       "        <td>Gold Medal</td>\n",
       "    </tr>\n",
       "    <tr>\n",
       "        <td>1</td>\n",
       "        <td>People&#x27;s Republic of China</td>\n",
       "        <td>CHN</td>\n",
       "        <td>HE Zihao</td>\n",
       "        <td>Archery</td>\n",
       "        <td>ARC</td>\n",
       "        <td>Men&#x27;s Individual Compound - Open</td>\n",
       "        <td>Gold Medal</td>\n",
       "    </tr>\n",
       "    <tr>\n",
       "        <td>2</td>\n",
       "        <td>United States of America</td>\n",
       "        <td>USA</td>\n",
       "        <td>MATHER Kevin</td>\n",
       "        <td>Archery</td>\n",
       "        <td>ARC</td>\n",
       "        <td>Men&#x27;s Individual Recurve - Open</td>\n",
       "        <td>Gold Medal</td>\n",
       "    </tr>\n",
       "</table>"
      ],
      "text/plain": [
       "[(0, 'Czech Republic', 'CZE', 'DRAHONINSKY David', 'Archery', 'ARC', \"Men's Individual - W1\", 'Gold Medal'),\n",
       " (1, \"People's Republic of China\", 'CHN', 'HE Zihao', 'Archery', 'ARC', \"Men's Individual Compound - Open\", 'Gold Medal'),\n",
       " (2, 'United States of America', 'USA', 'MATHER Kevin', 'Archery', 'ARC', \"Men's Individual Recurve - Open\", 'Gold Medal')]"
      ]
     },
     "execution_count": 12,
     "metadata": {},
     "output_type": "execute_result"
    }
   ],
   "source": [
    "%sql SELECT * FROM medals LIMIT 3"
   ]
  },
  {
   "cell_type": "code",
   "execution_count": 13,
   "metadata": {},
   "outputs": [
    {
     "name": "stdout",
     "output_type": "stream",
     "text": [
      " * postgresql+psycopg2://localhost:5432/intro_to_sql_for_analytics\n",
      "3 rows affected.\n"
     ]
    },
    {
     "data": {
      "text/html": [
       "<table>\n",
       "    <tr>\n",
       "        <th>index</th>\n",
       "        <th>name</th>\n",
       "        <th>country</th>\n",
       "        <th>countrycode</th>\n",
       "        <th>sport</th>\n",
       "        <th>sport_code</th>\n",
       "        <th>date_of_birth</th>\n",
       "        <th>gender</th>\n",
       "    </tr>\n",
       "    <tr>\n",
       "        <td>0</td>\n",
       "        <td>AAJIM Munkhbat</td>\n",
       "        <td>Mongolia</td>\n",
       "        <td>MGL</td>\n",
       "        <td>Judo</td>\n",
       "        <td>JUD</td>\n",
       "        <td>1989-01-25</td>\n",
       "        <td>Male</td>\n",
       "    </tr>\n",
       "    <tr>\n",
       "        <td>1</td>\n",
       "        <td>ABARZA Alberto</td>\n",
       "        <td>Chile</td>\n",
       "        <td>CHI</td>\n",
       "        <td>Swimming</td>\n",
       "        <td>SWM</td>\n",
       "        <td>1984-12-11</td>\n",
       "        <td>Male</td>\n",
       "    </tr>\n",
       "    <tr>\n",
       "        <td>2</td>\n",
       "        <td>ABASLI Namig</td>\n",
       "        <td>Azerbaijan</td>\n",
       "        <td>AZE</td>\n",
       "        <td>Judo</td>\n",
       "        <td>JUD</td>\n",
       "        <td>1997-09-12</td>\n",
       "        <td>Male</td>\n",
       "    </tr>\n",
       "</table>"
      ],
      "text/plain": [
       "[(0, 'AAJIM Munkhbat', 'Mongolia', 'MGL', 'Judo', 'JUD', datetime.date(1989, 1, 25), 'Male'),\n",
       " (1, 'ABARZA Alberto', 'Chile', 'CHI', 'Swimming', 'SWM', datetime.date(1984, 12, 11), 'Male'),\n",
       " (2, 'ABASLI Namig', 'Azerbaijan', 'AZE', 'Judo', 'JUD', datetime.date(1997, 9, 12), 'Male')]"
      ]
     },
     "execution_count": 13,
     "metadata": {},
     "output_type": "execute_result"
    }
   ],
   "source": [
    "%sql SELECT * FROM athletes LIMIT 3"
   ]
  },
  {
   "cell_type": "code",
   "execution_count": 47,
   "metadata": {},
   "outputs": [
    {
     "name": "stdout",
     "output_type": "stream",
     "text": [
      " * postgresql+psycopg2://localhost:5432/intro_to_sql_for_analytics\n",
      "2 rows affected.\n"
     ]
    },
    {
     "data": {
      "text/html": [
       "<table>\n",
       "    <tr>\n",
       "        <th>country</th>\n",
       "        <th>count</th>\n",
       "    </tr>\n",
       "    <tr>\n",
       "        <td>People&#x27;s Republic of China</td>\n",
       "        <td>276</td>\n",
       "    </tr>\n",
       "    <tr>\n",
       "        <td>Great Britain</td>\n",
       "        <td>171</td>\n",
       "    </tr>\n",
       "</table>"
      ],
      "text/plain": [
       "[(\"People's Republic of China\", 276), ('Great Britain', 171)]"
      ]
     },
     "execution_count": 47,
     "metadata": {},
     "output_type": "execute_result"
    }
   ],
   "source": [
    "%%sql SELECT country, \n",
    "      COUNT(medal)\n",
    "      FROM medals\n",
    "      GROUP BY country\n",
    "      ORDER BY count DESC\n",
    "      LIMIT 2"
   ]
  },
  {
   "cell_type": "code",
   "execution_count": 46,
   "metadata": {},
   "outputs": [
    {
     "name": "stdout",
     "output_type": "stream",
     "text": [
      " * postgresql+psycopg2://localhost:5432/intro_to_sql_for_analytics\n",
      "2 rows affected.\n"
     ]
    },
    {
     "data": {
      "text/html": [
       "<table>\n",
       "    <tr>\n",
       "        <th>country</th>\n",
       "        <th>count</th>\n",
       "    </tr>\n",
       "    <tr>\n",
       "        <td>Japan</td>\n",
       "        <td>262</td>\n",
       "    </tr>\n",
       "    <tr>\n",
       "        <td>People&#x27;s Republic of China</td>\n",
       "        <td>256</td>\n",
       "    </tr>\n",
       "</table>"
      ],
      "text/plain": [
       "[('Japan', 262), (\"People's Republic of China\", 256)]"
      ]
     },
     "execution_count": 46,
     "metadata": {},
     "output_type": "execute_result"
    }
   ],
   "source": [
    "%%sql SELECT country, \n",
    "      COUNT(name)\n",
    "      FROM athletes\n",
    "      GROUP BY country\n",
    "      ORDER BY count DESC\n",
    "      LIMIT 2"
   ]
  },
  {
   "cell_type": "code",
   "execution_count": 88,
   "metadata": {},
   "outputs": [
    {
     "name": "stdout",
     "output_type": "stream",
     "text": [
      " * postgresql+psycopg2://localhost:5432/intro_to_sql_for_analytics\n",
      "5 rows affected.\n"
     ]
    },
    {
     "data": {
      "text/html": [
       "<table>\n",
       "    <tr>\n",
       "        <th>country</th>\n",
       "        <th>athlete_count</th>\n",
       "        <th>medal_count</th>\n",
       "        <th>medals_per_athlete</th>\n",
       "    </tr>\n",
       "    <tr>\n",
       "        <td>People&#x27;s Republic of China</td>\n",
       "        <td>256</td>\n",
       "        <td>276</td>\n",
       "        <td>1.08</td>\n",
       "    </tr>\n",
       "    <tr>\n",
       "        <td>Netherlands</td>\n",
       "        <td>74</td>\n",
       "        <td>77</td>\n",
       "        <td>1.04</td>\n",
       "    </tr>\n",
       "    <tr>\n",
       "        <td>Italy</td>\n",
       "        <td>114</td>\n",
       "        <td>91</td>\n",
       "        <td>0.80</td>\n",
       "    </tr>\n",
       "    <tr>\n",
       "        <td>Ukraine</td>\n",
       "        <td>139</td>\n",
       "        <td>108</td>\n",
       "        <td>0.78</td>\n",
       "    </tr>\n",
       "    <tr>\n",
       "        <td>Great Britain</td>\n",
       "        <td>221</td>\n",
       "        <td>171</td>\n",
       "        <td>0.77</td>\n",
       "    </tr>\n",
       "</table>"
      ],
      "text/plain": [
       "[(\"People's Republic of China\", 256, 276, Decimal('1.08')),\n",
       " ('Netherlands', 74, 77, Decimal('1.04')),\n",
       " ('Italy', 114, 91, Decimal('0.80')),\n",
       " ('Ukraine', 139, 108, Decimal('0.78')),\n",
       " ('Great Britain', 221, 171, Decimal('0.77'))]"
      ]
     },
     "execution_count": 88,
     "metadata": {},
     "output_type": "execute_result"
    }
   ],
   "source": [
    "%%sql \n",
    "SELECT \n",
    "    ath_count.country, \n",
    "    ath_count.athlete_count, \n",
    "    medal_count.medal_count,\n",
    "ROUND(\n",
    "    CAST(medal_count.medal_count AS numeric) / ath_count.athlete_count, 2) AS medals_per_athlete\n",
    "FROM(SELECT country, COUNT(name) AS athlete_count FROM athletes GROUP BY country) AS ath_count\n",
    "JOIN(SELECT country, COUNT(medal) AS medal_count FROM medals GROUP BY country) AS medal_count\n",
    "ON ath_count.country = medal_count.country\n",
    "ORDER BY medals_per_athlete DESC\n",
    "LIMIT 5\n"
   ]
  }
 ],
 "metadata": {
  "kernelspec": {
   "display_name": "sql_for_data_venv",
   "language": "python",
   "name": "python3"
  },
  "language_info": {
   "codemirror_mode": {
    "name": "ipython",
    "version": 3
   },
   "file_extension": ".py",
   "mimetype": "text/x-python",
   "name": "python",
   "nbconvert_exporter": "python",
   "pygments_lexer": "ipython3",
   "version": "3.12.6"
  }
 },
 "nbformat": 4,
 "nbformat_minor": 2
}
